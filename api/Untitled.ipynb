{
 "cells": [
  {
   "cell_type": "code",
   "execution_count": 2,
   "metadata": {},
   "outputs": [],
   "source": [
    "import pygsheets\n",
    "\n",
    "def lendoPlanilha():\n",
    "    gc=pygsheets.authorize(service_file='key.json')\n",
    "    CODE = '149FnZjzn4lNqpvSX5PvxBa2Wk-f3SHDFDoZ_CCVgp6M'\n",
    "    sh=gc.open_by_key(CODE)  \n",
    "    wks = sh[0]\n",
    "    return wks.get_all_records()\n",
    "\n",
    "\n",
    "dados=lendoPlanilha()"
   ]
  },
  {
   "cell_type": "code",
   "execution_count": 3,
   "id": "006e63a4",
   "metadata": {},
   "outputs": [
    {
     "data": {
      "text/plain": [
       "[{'host': 'srv-lmeta-003.tre-rn.jus.br',\n",
       "  'porta': 5504,\n",
       "  'database': 'biage',\n",
       "  'usuario': 'biage',\n",
       "  'senha': 'biage',\n",
       "  'schema': 'AGUA_ESGOTO',\n",
       "  'tabela': 'fato_consumo_agua_esgoto',\n",
       "  'projeto': 'BIAGE',\n",
       "  'painel': 'Consumo Água e Esgoto'},\n",
       " {'host': 'srv-lmeta-003.tre-rn.jus.br',\n",
       "  'porta': 5504,\n",
       "  'database': 'biage',\n",
       "  'usuario': 'biage',\n",
       "  'senha': 'biage',\n",
       "  'schema': 'ENERGIA',\n",
       "  'tabela': 'fato_consumo_energia',\n",
       "  'projeto': 'BIAGE',\n",
       "  'painel': 'Consumo de Energia'},\n",
       " {'host': 'srv-lmeta-003.tre-rn.jus.br',\n",
       "  'porta': 5504,\n",
       "  'database': 'biage',\n",
       "  'usuario': 'biage',\n",
       "  'senha': 'biage',\n",
       "  'schema': 'IMPRESSOES',\n",
       "  'tabela': 'fato_impressoes',\n",
       "  'projeto': 'BIAGE',\n",
       "  'painel': 'Impressões'},\n",
       " {'host': 'srv-lmeta-003.tre-rn.jus.br',\n",
       "  'porta': 5504,\n",
       "  'database': 'biage',\n",
       "  'usuario': 'biage',\n",
       "  'senha': 'biage',\n",
       "  'schema': 'MATERIAIS',\n",
       "  'tabela': 'fato_consumo_item',\n",
       "  'projeto': 'BIAGE',\n",
       "  'painel': 'Copos descartáveis/Papel/Água Mineral'}]"
      ]
     },
     "execution_count": 3,
     "metadata": {},
     "output_type": "execute_result"
    }
   ],
   "source": [
    "dados"
   ]
  },
  {
   "cell_type": "code",
   "execution_count": 4,
   "id": "ddfc8b35",
   "metadata": {},
   "outputs": [],
   "source": []
  },
  {
   "cell_type": "code",
   "execution_count": 5,
   "id": "6523320e",
   "metadata": {},
   "outputs": [],
   "source": [
    "import psycopg2\n",
    "def consultar(host,database,port,user,pw, schema, table):\n",
    "    porta=int(port)\n",
    "    print(port)\n",
    "    conn = psycopg2.connect(\n",
    "        host=host,\n",
    "        port=porta,\n",
    "        dbname= database,\n",
    "        user=user,\n",
    "        password=pw\n",
    "    )\n",
    "    cs= conn.cursor()\n",
    "\n",
    "    cs.execute('SELECT count(*) from {esquema}.{tabela}'.format(esquema=schema, tabela=table))\n",
    "\n",
    "    resultado = cs.fetchone()[0]\n",
    "\n",
    "    conn.close()\n",
    "    return resultado\n"
   ]
  },
  {
   "cell_type": "code",
   "execution_count": 23,
   "id": "fc8f6023",
   "metadata": {},
   "outputs": [
    {
     "name": "stdout",
     "output_type": "stream",
     "text": [
      "{'host': 'srv-lmeta-003.tre-rn.jus.br', 'porta': 5504, 'database': 'biage', 'usuario': 'biage', 'senha': 'biage', 'schema': 'ENERGIA', 'tabela': 'fato_consumo_energia', 'projeto': 'BIAGE', 'painel': 'Consumo de Energia'}\n",
      "{'host': 'srv-lmeta-003.tre-rn.jus.br', 'porta': 5504, 'database': 'biage', 'usuario': 'biage', 'senha': 'biage', 'schema': 'IMPRESSOES', 'tabela': 'fato_impressoes', 'projeto': 'BIAGE', 'painel': 'Impressões'}\n",
      "{'host': 'srv-lmeta-003.tre-rn.jus.br', 'porta': 5504, 'database': 'biage', 'usuario': 'biage', 'senha': 'biage', 'schema': 'MATERIAIS', 'tabela': 'fato_consumo_item', 'projeto': 'BIAGE', 'painel': 'Copos descartáveis/Papel/Água Mineral'}\n"
     ]
    }
   ],
   "source": [
    "for linha in dados[1:]:\n",
    "        print(linha)"
   ]
  },
  {
   "cell_type": "code",
   "execution_count": 30,
   "id": "81558ece",
   "metadata": {},
   "outputs": [],
   "source": [
    "import psycopg2\n",
    "def consultar(host,database,port,user,pw, schema, table):\n",
    "    conn = psycopg2.connect(\n",
    "        host=host,\n",
    "        port=port,\n",
    "        dbname= database,\n",
    "        user=user,\n",
    "        password=pw\n",
    "    )\n",
    "    cs= conn.cursor()\n",
    "\n",
    "    cs.execute('SELECT count(*) from {esquema}.{tabela}'.format(esquema=schema, tabela=table))\n",
    "\n",
    "    resultado = cs.fetchone()[0]\n",
    "\n",
    "    conn.close()\n",
    "    return resultado\n"
   ]
  },
  {
   "cell_type": "code",
   "execution_count": 59,
   "id": "c3f206d6",
   "metadata": {},
   "outputs": [
    {
     "name": "stdout",
     "output_type": "stream",
     "text": [
      "1914 items em  Consumo de Energia\n",
      "6115038 items em  Impressões\n",
      "19028 items em  Copos descartáveis/Papel/Água Mineral\n"
     ]
    }
   ],
   "source": [
    "import psycopg2\n",
    "def consultar(host,banco,porta,usuario,senha, schema, table):\n",
    "    conn = psycopg2.connect(\n",
    "        database=banco,\n",
    "        user=usuario,\n",
    "        password=senha,\n",
    "        host=host,\n",
    "        port=porta\n",
    "    )\n",
    "    cs= conn.cursor()\n",
    "\n",
    "    cs.execute('SELECT count(*) from {esquema}.{tabela}'.format(esquema=schema, tabela=table))\n",
    "\n",
    "    resultado = cs.fetchone()[0]\n",
    "\n",
    "    conn.close()\n",
    "    return resultado\n",
    "\n",
    "def paineis():\n",
    "    dados=lendoPlanilha()\n",
    "    for linha in dados[1:]:\n",
    "        try:\n",
    "            host = linha['host']         \n",
    "            porta= linha['porta']\n",
    "            banco= linha['database']\n",
    "            usuario= linha['usuario']\n",
    "            senha= linha['senha']\n",
    "            esquema= linha['schema']\n",
    "            tabela= linha['tabela']\n",
    "            painel= linha['painel']\n",
    "            projeto = linha['projeto']\n",
    "            status=linha['status']\n",
    "            resultado = consultar(host,banco,porta,usuario,senha,esquema,tabela)\n",
    "            print(resultado ,'items em ',painel)\n",
    "            resultado= str(resultado)\n",
    "            if resultado =='0':\n",
    "                gc=pygsheets.authorize(service_file='./env/key.json')\n",
    "                CODE = '149FnZjzn4lNqpvSX5PvxBa2Wk-f3SHDFDoZ_CCVgp6M'\n",
    "                sh=gc.open_by_key(CODE)\n",
    "                wks = sh[0]\n",
    "                wks.update_value('status','offline')\n",
    "        except Exception as e2:\n",
    "            print('dentro da execept')\n",
    "            print(e2)\n",
    "paineis()"
   ]
  }
 ],
 "metadata": {
  "kernelspec": {
   "display_name": "Python 3.10.6 64-bit",
   "language": "python",
   "name": "python3"
  },
  "language_info": {
   "codemirror_mode": {
    "name": "ipython",
    "version": 3
   },
   "file_extension": ".py",
   "mimetype": "text/x-python",
   "name": "python",
   "nbconvert_exporter": "python",
   "pygments_lexer": "ipython3",
   "version": "3.10.6"
  },
  "vscode": {
   "interpreter": {
    "hash": "916dbcbb3f70747c44a77c7bcd40155683ae19c65e1c03b4aa3499c5328201f1"
   }
  }
 },
 "nbformat": 4,
 "nbformat_minor": 5
}
